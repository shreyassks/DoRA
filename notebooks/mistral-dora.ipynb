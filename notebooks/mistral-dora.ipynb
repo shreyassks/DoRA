{
 "cells": [
  {
   "cell_type": "markdown",
   "metadata": {},
   "source": [
    "# DoRA - Weight Decomposed Low Rank Adaptation\n",
    "\n",
    "<ol>\n",
    "> This notebook contains the code to decompose the pretrained weights and finetuned weights of Llama-2-7B LLM model using DoRA. <br>\n",
    "> These decomposed weights having magnitude and directional components of Query and Value matrices are utilized to plot the visualizations <br>\n",
    "> The pretrained model is finetuned on Alpaca Cleaned Instruction dataset <br>\n",
    "> Checkpoints were stored at every 100 training steps <br>\n",
    "> Hyper parameters for finetuning are taken from the DoRA research paper <br>\n",
    "> There are 32 Decoder layers, for better visibility, I have considered layers which are multiples of 6 to plot magnitude and directional components <br>\n",
    "</ol>\n",
    "<br>\n",
    "\n",
    "<img src=\"https://substackcdn.com/image/fetch/f_auto,q_auto:good,fl_progressive:steep/https%3A%2F%2Fsubstack-post-media.s3.amazonaws.com%2Fpublic%2Fimages%2Fa273632c-9434-43d1-9156-fb6d58a1a26e_1600x1137.png\" width=900 height=700/>"
   ]
  },
  {
   "cell_type": "markdown",
   "metadata": {},
   "source": [
    "### <font color=yellow>*Import all required modules*"
   ]
  },
  {
   "cell_type": "code",
   "execution_count": 1,
   "metadata": {
    "tags": []
   },
   "outputs": [],
   "source": [
    "import torch\n",
    "import os\n",
    "\n",
    "import numpy as np\n",
    "import matplotlib.pyplot as plt\n",
    "from collections import defaultdict\n",
    "\n",
    "from peft import PeftModel\n",
    "from transformers import AutoModelForCausalLM\n",
    "from peft import get_peft_model, LoraConfig\n",
    "\n",
    "device = \"cuda\" if torch.cuda.is_available() else \"cpu\""
   ]
  },
  {
   "cell_type": "markdown",
   "metadata": {},
   "source": [
    "### <font color=yellow>*Load the pretrained Llama-2 7B model into GPU*"
   ]
  },
  {
   "cell_type": "code",
   "execution_count": 2,
   "metadata": {
    "tags": []
   },
   "outputs": [],
   "source": [
    "def load_model(model_name):\n",
    "    model = AutoModelForCausalLM.from_pretrained(\n",
    "        model_name,\n",
    "        torch_dtype=torch.float32,\n",
    "        device_map=\"auto\"\n",
    "        )\n",
    "    model.eval()\n",
    "    return model"
   ]
  },
  {
   "cell_type": "markdown",
   "metadata": {},
   "source": [
    "### <font color=yellow>*Decompose the pretrained weights into magnitude and directional components*"
   ]
  },
  {
   "cell_type": "markdown",
   "metadata": {},
   "source": [
    "<img src=\"https://substackcdn.com/image/fetch/f_auto,q_auto:good,fl_progressive:steep/https%3A%2F%2Fsubstack-post-media.s3.amazonaws.com%2Fpublic%2Fimages%2F6a5bf344-2c27-4197-839f-6c28af722e0f_766x614.png\" width=500 height=400>"
   ]
  },
  {
   "cell_type": "code",
   "execution_count": 3,
   "metadata": {
    "tags": []
   },
   "outputs": [],
   "source": [
    "def weight_decomposition(weights, store: dict, tag=None):\n",
    "    for i in range(len(weights)):\n",
    "        magnitude = weights[i].norm(p=2, dim=1, keepdim=True)\n",
    "        direction = weights[i] / magnitude\n",
    "        store[f\"query_layer_{i}\"].append(magnitude)\n",
    "        store[f\"query_layer_{i}\"].append(direction)\n",
    "\n",
    "\n",
    "def get_model_weights(model, tag=None):\n",
    "    query_weights = []\n",
    "    for layer in model.model.model.layers:\n",
    "        query_weights.append(layer.self_attn.q_proj.base_layer.weight)\n",
    "    return query_weights"
   ]
  },
  {
   "cell_type": "markdown",
   "metadata": {},
   "source": [
    "### <font color=yellow>*Load the finetuned model (DoRA weights) from checkpoints folder*"
   ]
  },
  {
   "cell_type": "code",
   "execution_count": 4,
   "metadata": {
    "tags": []
   },
   "outputs": [
    {
     "data": {
      "application/vnd.jupyter.widget-view+json": {
       "model_id": "722bfbb8ea8648c0a0fb908e611d7256",
       "version_major": 2,
       "version_minor": 0
      },
      "text/plain": [
       "Loading checkpoint shards:   0%|          | 0/2 [00:00<?, ?it/s]"
      ]
     },
     "metadata": {},
     "output_type": "display_data"
    }
   ],
   "source": [
    "model_name = \"meta-llama/Llama-2-7b-hf\"\n",
    "peft_name = \"trl/output/dora/checkpoint-100\"\n",
    "\n",
    "model = load_model(model_name)\n",
    "peft_model = PeftModel.from_pretrained(model, peft_name)"
   ]
  },
  {
   "cell_type": "markdown",
   "metadata": {},
   "source": [
    "### <font color=yellow>*Verify the shape of weight matrices for Query Vector*\n",
    "##### <font color=yellow>*Linear layer weights ------> (hidden_dim, hidden_dim)*\n",
    "##### <font color=yellow>*LoRA - A matrix -----------> (rank, hidden_dim)*\n",
    "##### <font color=yellow>*LoRA - B matrix -----------> (hidden_dim, rank)*\n",
    "##### <font color=yellow>*Magnitude Vector ----------> (hidden_dim, 1)*"
   ]
  },
  {
   "cell_type": "code",
   "execution_count": 5,
   "metadata": {
    "tags": []
   },
   "outputs": [
    {
     "name": "stdout",
     "output_type": "stream",
     "text": [
      "Shape of Pre-trained Query Layer Weight Matrix -> torch.Size([4096, 4096])\n",
      "Shape of LoRA - A matrix for Query Layer -> torch.Size([64, 4096])\n",
      "Shape of LoRA - B matrix for Query Layer -> torch.Size([4096, 64])\n",
      "Trainable Magnitude Vector -> ParameterDict(  (default): Parameter containing: [torch.cuda.FloatTensor of size 4096 (cuda:0)])\n"
     ]
    }
   ],
   "source": [
    "for module in peft_model.model.model.layers:\n",
    "    print(f\"Shape of Pre-trained Query Layer Weight Matrix -> {module.self_attn.q_proj.weight.shape}\")\n",
    "    print(f\"Shape of LoRA - A matrix for Query Layer -> {module.self_attn.q_proj.lora_A.default.weight.shape}\")\n",
    "    print(f\"Shape of LoRA - B matrix for Query Layer -> {module.self_attn.q_proj.lora_B.default.weight.shape}\")\n",
    "    print(f\"Trainable Magnitude Vector -> {module.self_attn.q_proj.lora_magnitude_vector}\")\n",
    "    break"
   ]
  },
  {
   "cell_type": "markdown",
   "metadata": {},
   "source": [
    "### <font color=yellow>*Number of Trainable parameters*\n",
    "> Only 2.33% of parameters are trained <br>\n",
    "> Only marginal increase compared to LoRA due to addition of trainable magnitude vectors"
   ]
  },
  {
   "cell_type": "code",
   "execution_count": 13,
   "metadata": {
    "tags": []
   },
   "outputs": [
    {
     "name": "stdout",
     "output_type": "stream",
     "text": [
      "trainable params: 161,267,712 || all params: 6,899,683,328 || trainable%: 2.337320487529482\n"
     ]
    }
   ],
   "source": [
    "peft_config = LoraConfig(\n",
    "    use_dora=True,\n",
    "    r=64,\n",
    "    lora_alpha=128,\n",
    "    lora_dropout=0.0,\n",
    "    target_modules=[\"q_proj\", \"k_proj\", \"v_proj\", \"o_proj\", \"gate_proj\", \"up_proj\", \"down_proj\"],\n",
    "    bias=\"none\",\n",
    "    task_type=\"CAUSAL_LM\",\n",
    "    inference_mode=False\n",
    ")\n",
    "\n",
    "model = get_peft_model(model, peft_config)\n",
    "model.print_trainable_parameters()"
   ]
  },
  {
   "cell_type": "markdown",
   "metadata": {},
   "source": [
    "### <font color=yellow>*Fetch and Store the decomposed weights of Query/ Value matrices of pretrained model*"
   ]
  },
  {
   "cell_type": "code",
   "execution_count": 6,
   "metadata": {
    "tags": []
   },
   "outputs": [],
   "source": [
    "pretrained_weight_decomposition = defaultdict(list)\n",
    "pretrained_query_weights = get_model_weights(peft_model)\n",
    "weight_decomposition(pretrained_query_weights, pretrained_weight_decomposition)\n",
    "\n",
    "del peft_model"
   ]
  },
  {
   "cell_type": "markdown",
   "metadata": {},
   "source": [
    "### <font color=yellow>*Helper Functions to compute change in Magnitude and Directional Components*"
   ]
  },
  {
   "cell_type": "code",
   "execution_count": 7,
   "metadata": {
    "tags": []
   },
   "outputs": [],
   "source": [
    "def merged_dora_weights(layer):\n",
    "    combined_weights = layer.weight\n",
    "    return combined_weights\n",
    "\n",
    "\n",
    "def get_merged_weights(model):\n",
    "    query_weights = []\n",
    "    for layer in model.model.layers:\n",
    "        query_weights.append(merged_dora_weights(layer.self_attn.q_proj))\n",
    "    return query_weights\n",
    "\n",
    "\n",
    "def cos_sim(a, b, dim):\n",
    "    dot_product = torch.sum(a * b, dim=dim)\n",
    "    norm_A = torch.norm(a, dim=dim)\n",
    "    norm_B = torch.norm(b, dim=dim)\n",
    "    sim = dot_product / (norm_A * norm_B)\n",
    "    return sim\n",
    "\n",
    "\n",
    "def delta_magnitude(pt_weights, ft_weights):\n",
    "    layer_wise_delta_m = {}\n",
    "    for i in range(1, 7):\n",
    "        a = ft_weights.get(f\"query_layer_{i}\")[0]\n",
    "        b = pt_weights.get(f\"query_layer_{i}\")[0]\n",
    "        k = b.shape[0]\n",
    "        d_m = torch.sum(abs(a - b)) / k\n",
    "        layer_wise_delta_m[f\"layer_{i}\"] = round(d_m.item(), 6)\n",
    "    return layer_wise_delta_m\n",
    "\n",
    "\n",
    "def delta_direction(pt_weights, ft_weights):\n",
    "    layer_wise_delta_d = {}\n",
    "    for i in range(1, 7):\n",
    "        a = ft_weights.get(f\"query_layer_{i}\")[1]\n",
    "        b = pt_weights.get(f\"query_layer_{i}\")[1]\n",
    "        k = b.shape[0]\n",
    "        sim = cos_sim(a, b, dim=0)\n",
    "        d_m = torch.sum(1 - sim) / k\n",
    "        layer_wise_delta_d[f\"layer_{i}\"] = round(d_m.item(), 6)\n",
    "    return layer_wise_delta_d"
   ]
  },
  {
   "cell_type": "markdown",
   "metadata": {},
   "source": [
    "### <font color=yellow>*Computes the Magnitude and Directional Components of finetuned model checkpoints*"
   ]
  },
  {
   "cell_type": "code",
   "execution_count": 8,
   "metadata": {
    "tags": []
   },
   "outputs": [],
   "source": [
    "def get_magnitude_directions(tag):\n",
    "    checkpoint_path = \"trl/output/dora\"\n",
    "    artifacts = os.listdir(checkpoint_path)\n",
    "    combined_dm, combined_dd = defaultdict(list), defaultdict(list)\n",
    "\n",
    "    for model_dir in artifacts:\n",
    "        if not model_dir.startswith(\".\"):\n",
    "            decomposed_weights = defaultdict(list)\n",
    "            model_path = os.path.join(checkpoint_path, model_dir)\n",
    "            peft_model = PeftModel.from_pretrained(model, model_path)\n",
    "            merged_model = peft_model.merge_and_unload()\n",
    "            query_weights = get_merged_weights(merged_model)\n",
    "            del peft_model\n",
    "            del merged_model\n",
    "\n",
    "            weight_decomposition(query_weights, decomposed_weights, tag=tag)\n",
    "            dm = delta_magnitude(pretrained_weight_decomposition, decomposed_weights)\n",
    "            dd = delta_direction(pretrained_weight_decomposition, decomposed_weights)\n",
    "\n",
    "            name = model_dir[-3:]\n",
    "            combined_dm[name].append(dm)\n",
    "            combined_dd[name].append(dd)\n",
    "    return combined_dm, combined_dd"
   ]
  },
  {
   "cell_type": "code",
   "execution_count": 9,
   "metadata": {
    "tags": []
   },
   "outputs": [],
   "source": [
    "tag = \"dora\"\n",
    "dora_m, dora_d = get_magnitude_directions(tag=tag)"
   ]
  },
  {
   "cell_type": "markdown",
   "metadata": {},
   "source": [
    "### <font color=yellow>*Accumulate magnitude and direction of each layer for plotting from each checkpoint*"
   ]
  },
  {
   "cell_type": "code",
   "execution_count": 10,
   "metadata": {
    "tags": []
   },
   "outputs": [
    {
     "name": "stdout",
     "output_type": "stream",
     "text": [
      "Checkpoint Wise Magnitude and Direction -> \n",
      "{'layer_1': {'magnitude': 0.004974, 'direction': 0.18793}, 'layer_2': {'magnitude': 0.005409, 'direction': 0.110594}, 'layer_3': {'magnitude': 0.005479, 'direction': 0.120249}, 'layer_4': {'magnitude': 0.005501, 'direction': 0.084277}, 'layer_5': {'magnitude': 0.005378, 'direction': 0.085303}, 'layer_6': {'magnitude': 0.005202, 'direction': 0.094416}}\n"
     ]
    }
   ],
   "source": [
    "checkpoint_wise_magnitude_direction = []\n",
    "for model_name in ['300', '400', '500', '600', '700']:\n",
    "    if model_name in dora_m and model_name in dora_d:\n",
    "        magnitude, direction = dora_m[model_name], dora_d[model_name]\n",
    "        layer_wise_magnitude_direction = {}\n",
    "        for m, d in zip(magnitude[0].items(), direction[0].items()):\n",
    "            layer_wise_magnitude_direction[m[0]] = {\"magnitude\": m[1], \"direction\": d[1]}\n",
    "        checkpoint_wise_magnitude_direction.append(layer_wise_magnitude_direction)\n",
    "\n",
    "print(f\"Checkpoint Wise Magnitude and Direction -> \\n{checkpoint_wise_magnitude_direction[0]}\")"
   ]
  },
  {
   "cell_type": "markdown",
   "metadata": {},
   "source": [
    "### <font color=yellow>*Visualization of Magnitude and Directional Components between Pretrained and Finetuned Intermediate Model checkpoints*\n",
    "> A negative correlation can be observed in below plot <br>\n",
    "> Since, pretrained model already has gained significant knowledge of the language and it's structure that's needed for downstream tasks, <br>\n",
    "> Finetuning on simple tasks need alteration on magnitude or direction components but not both for downstream task specific adaptation<br>\n",
    "> DoRA demonstrates the ability to make only substantial directional adjustments with relatively minimal changes in magnitude or the reverse"
   ]
  },
  {
   "cell_type": "code",
   "execution_count": 14,
   "metadata": {
    "tags": []
   },
   "outputs": [
    {
     "data": {
      "image/png": "[encoded data removed]",
      "text/plain": [
       "<Figure size 1000x500 with 1 Axes>"
      ]
     },
     "metadata": {},
     "output_type": "display_data"
    }
   ],
   "source": [
    "layers = ['layer_1', 'layer_2', 'layer_3', 'layer_4', 'layer_5', 'layer_6']\n",
    "markers = ['o', 's', '^', 'x', 'D']\n",
    "colors = ['y', 'b', 'g', 'r', 'c', 'm']\n",
    "marker_labels = [\"inter_step1\",  \"inter_step2\", \"inter_step3\", \"inter_step4\", \"final_step\"]\n",
    "\n",
    "plt.figure(figsize=(10, 5))\n",
    "\n",
    "for i, layer in enumerate(layers):\n",
    "    for j, entry in enumerate(checkpoint_wise_magnitude_direction):\n",
    "        plt.scatter(entry[layer]['direction'], entry[layer]['magnitude'], color=colors[i],\n",
    "                    label=layer if j == 0 else \"\", marker=markers[j], s=100)\n",
    "\n",
    "for i, marker in enumerate(markers):\n",
    "    plt.scatter([], [], marker=marker, color='k', label=marker_labels[i])\n",
    "\n",
    "x = np.linspace(0.0, 0.18, 100)\n",
    "y = np.linspace(0.005, 0.006, 100)[::-1]\n",
    "plt.plot(x, y, '-', color='violet')\n",
    "\n",
    "legend_layers = plt.legend(title='Layers', loc='upper right')\n",
    "plt.gca().add_artist(legend_layers)\n",
    "\n",
    "plt.xlabel('Delta Direction', fontsize=12)\n",
    "plt.ylabel('Delta Magnitude', fontsize=12)\n",
    "plt.title('Magnitude and Directional Updates of Value Matrix - DoRA', fontsize=16)\n",
    "plt.grid(False)\n",
    "\n",
    "# plt.savefig('plot_dora_v_proj.jpg', format='jpg')\n",
    "plt.show()"
   ]
  },
  {
   "cell_type": "markdown",
   "metadata": {},
   "source": [
    "### <font color=yellow>*Correlation Coefficient between Magnitude and Directional Components*"
   ]
  },
  {
   "cell_type": "code",
   "execution_count": 12,
   "metadata": {
    "tags": []
   },
   "outputs": [
    {
     "name": "stdout",
     "output_type": "stream",
     "text": [
      "Correlation Coefficient for DoRA: -0.69\n"
     ]
    }
   ],
   "source": [
    "x, y = [], []\n",
    "\n",
    "for i, j in dora_m.items():\n",
    "    if i in ['300', '400', '500', '600', '700']:\n",
    "        for _, k in j[0].items():\n",
    "            x.append(k)\n",
    "\n",
    "for i, j in dora_d.items():\n",
    "    if i in ['300', '400', '500', '600', '700']:\n",
    "        for _, k in j[0].items():\n",
    "            y.append(k)\n",
    "\n",
    "correlation = np.corrcoef(x, y)\n",
    "print(f\"Correlation Coefficient for DoRA: {round(correlation[0][-1], 2)}\")"
   ]
  },
  {
   "cell_type": "code",
   "execution_count": null,
   "metadata": {},
   "outputs": [],
   "source": []
  }
 ],
 "metadata": {
  "kernelspec": {
   "display_name": "conda_pytorch_p310",
   "language": "python",
   "name": "conda_pytorch_p310"
  },
  "language_info": {
   "codemirror_mode": {
    "name": "ipython",
    "version": 3
   },
   "file_extension": ".py",
   "mimetype": "text/x-python",
   "name": "python",
   "nbconvert_exporter": "python",
   "pygments_lexer": "ipython3",
   "version": "3.10.13"
  }
 },
 "nbformat": 4,
 "nbformat_minor": 4
}
