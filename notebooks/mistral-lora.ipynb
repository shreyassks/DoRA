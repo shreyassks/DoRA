{
 "cells": [
  {
   "cell_type": "markdown",
   "id": "e950d970",
   "metadata": {},
   "source": [
    "# LoRA - Low Rank Adaptation\n",
    "\n",
    "<ol>\n",
    "> This notebook contains the code to decompose the pretrained weights and finetuned weights of Llama-2-7B LLM model using LoRA. <br>\n",
    "> These decomposed weights having magnitude and directional components of Query and Value matrices are utilized to plot the visualizations <br>\n",
    "> The pretrained model is finetuned on Alpaca Cleaned Instruction dataset <br>\n",
    "> Checkpoints were stored at every 100 training steps <br>\n",
    "> Hyper parameters for finetuning are taken from the DoRA research paper <br>\n",
    "> There are 32 Decoder layers, for better visibility, I have considered layers which are multiples of 6 to plot magnitude and directional components <br>\n",
    "</ol>\n",
    "<br>\n",
    "<br>\n",
    "<img src=\"https://substackcdn.com/image/fetch/f_auto,q_auto:good,fl_progressive:steep/https%3A%2F%2Fsubstack-post-media.s3.amazonaws.com%2Fpublic%2Fimages%2Fee7f7d37-3c0a-4f4a-9244-f73287af6211_1456x612.jpeg\" alt=\"Regular vs LoRA finetuning\" width =1200 height=500/>"
   ]
  },
  {
   "cell_type": "markdown",
   "id": "8200b71d",
   "metadata": {},
   "source": [
    "### <font color=yellow>*Import all required modules*"
   ]
  },
  {
   "cell_type": "code",
   "execution_count": 1,
   "id": "0a35f5e5-9338-4400-83eb-1222fec8c538",
   "metadata": {
    "tags": []
   },
   "outputs": [],
   "source": [
    "import os\n",
    "from collections import defaultdict\n",
    "\n",
    "import matplotlib.pyplot as plt\n",
    "import numpy as np\n",
    "import torch\n",
    "from peft import LoraConfig, PeftModel, get_peft_model\n",
    "from transformers import AutoModelForCausalLM"
   ]
  },
  {
   "cell_type": "markdown",
   "id": "dec2f80f",
   "metadata": {},
   "source": [
    "### <font color=yellow>*Load the pretrained Llama-2 7B model into GPU*"
   ]
  },
  {
   "cell_type": "code",
   "execution_count": 2,
   "id": "6af764dc-6493-4d7b-ada2-a84a037a932f",
   "metadata": {
    "tags": []
   },
   "outputs": [],
   "source": [
    "def load_model(model_name):\n",
    "    model = AutoModelForCausalLM.from_pretrained(\n",
    "        model_name,\n",
    "        torch_dtype=torch.float16\n",
    "        )\n",
    "    model.eval()\n",
    "    return model"
   ]
  },
  {
   "cell_type": "code",
   "execution_count": 3,
   "id": "243a2d14-c3ff-4af5-8698-b1bc3e931d44",
   "metadata": {
    "tags": []
   },
   "outputs": [
    {
     "data": {
      "application/vnd.jupyter.widget-view+json": {
       "model_id": "bf73374a651d452ab297770d66a6c089",
       "version_major": 2,
       "version_minor": 0
      },
      "text/plain": [
       "Loading checkpoint shards:   0%|          | 0/2 [00:00<?, ?it/s]"
      ]
     },
     "metadata": {},
     "output_type": "display_data"
    }
   ],
   "source": [
    "model_name = \"meta-llama/Llama-2-7b-hf\"\n",
    "peft_name = \"trl/output/lora/checkpoint-200\"\n",
    "\n",
    "model = load_model(model_name)\n",
    "peft_model = PeftModel.from_pretrained(model, peft_name).to(\"cuda:1\")"
   ]
  },
  {
   "cell_type": "markdown",
   "id": "761bfd8e",
   "metadata": {},
   "source": [
    "### <font color=yellow>*Verify the shape of weight matrices for Query Vector*\n",
    "##### <font color=yellow>*Linear layer weights ------> (hidden_dim, hidden_dim)*\n",
    "##### <font color=yellow>*LoRA - A matrix -----------> (rank, hidden_dim)*\n",
    "##### <font color=yellow>*LoRA - B matrix -----------> (hidden_dim, rank)*"
   ]
  },
  {
   "cell_type": "code",
   "execution_count": 4,
   "id": "a75503b7-5e89-4eb1-8991-3a558baf5c6e",
   "metadata": {
    "tags": []
   },
   "outputs": [
    {
     "name": "stdout",
     "output_type": "stream",
     "text": [
      "Shape of Pre-trained Query Layer Weight Matrix -> torch.Size([4096, 4096])\n",
      "Shape of LoRA - A matrix for Query Layer -> torch.Size([64, 4096])\n",
      "Shape of LoRA - B matrix for Query Layer -> torch.Size([4096, 64])\n"
     ]
    }
   ],
   "source": [
    "for module in peft_model.model.model.layers:\n",
    "    print(f\"Shape of Pre-trained Query Layer Weight Matrix -> {module.self_attn.q_proj.weight.shape}\")\n",
    "    print(f\"Shape of LoRA - A matrix for Query Layer -> {module.self_attn.q_proj.lora_A.default.weight.shape}\")\n",
    "    print(f\"Shape of LoRA - B matrix for Query Layer -> {module.self_attn.q_proj.lora_B.default.weight.shape}\")\n",
    "    break"
   ]
  },
  {
   "cell_type": "markdown",
   "id": "e8397de4",
   "metadata": {},
   "source": [
    "### <font color=yellow>*Number of Trainable parameters*\n",
    "> Only 2.31% of parameters are trained <br>"
   ]
  },
  {
   "cell_type": "code",
   "execution_count": 5,
   "id": "a15d3d62-e7a4-4674-8cc1-a6286c43fb52",
   "metadata": {
    "tags": []
   },
   "outputs": [
    {
     "name": "stdout",
     "output_type": "stream",
     "text": [
      "trainable params: 159,907,840 || all params: 6,898,323,456 || trainable%: 2.3180681656919973\n"
     ]
    }
   ],
   "source": [
    "peft_config = LoraConfig(\n",
    "    r=64,\n",
    "    lora_alpha=128,\n",
    "    lora_dropout=0.0,\n",
    "    target_modules=[\"q_proj\", \"k_proj\", \"v_proj\", \"o_proj\", \"gate_proj\", \"up_proj\", \"down_proj\"],\n",
    "    bias=\"none\",\n",
    "    task_type=\"CAUSAL_LM\",\n",
    "    inference_mode=False\n",
    ")\n",
    "\n",
    "model = get_peft_model(model, peft_config)\n",
    "model.print_trainable_parameters()"
   ]
  },
  {
   "cell_type": "markdown",
   "id": "dab924a1",
   "metadata": {},
   "source": [
    "### <font color=yellow>*Helper Functions to compute change in Magnitude and Directional Components*"
   ]
  },
  {
   "cell_type": "code",
   "execution_count": 5,
   "id": "26b50561-87e2-4b92-8971-3472623f3b83",
   "metadata": {
    "tags": []
   },
   "outputs": [],
   "source": [
    "def merged_lora_weights(layer):\n",
    "    alpha = 2 * layer.lora_A.default.weight.shape[0]\n",
    "    lora_weights = layer.lora_A.default.weight.T @ layer.lora_B.default.weight.T\n",
    "    combined_weights = layer.base_layer.weight + alpha*lora_weights\n",
    "    return combined_weights\n",
    "\n",
    "\n",
    "def get_model_weights(model, tag=None):\n",
    "    query_weights = []\n",
    "    for layer in model.model.model.layers:\n",
    "        if tag == \"lora\":\n",
    "            query_weights.append(merged_lora_weights(layer.self_attn.q_proj))\n",
    "        else:\n",
    "            query_weights.append(layer.self_attn.q_proj.base_layer.weight)\n",
    "    return query_weights\n",
    "\n",
    "\n",
    "def weight_decomposition(weights, store: dict, tag=None):\n",
    "    for i in range(len(weights)):\n",
    "        magnitude = weights[i].norm(p=2, dim=1, keepdim=True)\n",
    "        direction = weights[i] / magnitude\n",
    "        store[f\"query_layer_{i}\"].append(magnitude)\n",
    "        store[f\"query_layer_{i}\"].append(direction)\n",
    "\n",
    "\n",
    "def cos_sim(a, b, dim):\n",
    "    dot_product = torch.sum(a * b, dim=dim)\n",
    "    norm_A = torch.norm(a, dim=dim)\n",
    "    norm_B = torch.norm(b, dim=dim)\n",
    "    sim = dot_product / (norm_A * norm_B)\n",
    "    return sim\n",
    "\n",
    "\n",
    "def delta_magnitude(pt_weights, ft_weights):\n",
    "    layer_wise_delta_m = {}\n",
    "    for i in range(1, 7):\n",
    "        a = ft_weights.get(f\"query_layer_{i}\")[0]\n",
    "        b = pt_weights.get(f\"query_layer_{i}\")[0]\n",
    "        k = b.shape[0]\n",
    "        d_m = torch.sum(abs(a - b)) / k\n",
    "        layer_wise_delta_m[f\"layer_{i}\"] = round(d_m.item(), 6)\n",
    "    return layer_wise_delta_m\n",
    "\n",
    "\n",
    "def delta_direction(pt_weights, ft_weights):\n",
    "    layer_wise_delta_d = {}\n",
    "    for i in range(1, 7):\n",
    "        a = ft_weights.get(f\"query_layer_{i}\")[1]\n",
    "        b = pt_weights.get(f\"query_layer_{i}\")[1]\n",
    "        k = b.shape[0]\n",
    "        sim = cos_sim(a, b, dim=0)\n",
    "        d_m = torch.sum(1 - sim) / k\n",
    "        layer_wise_delta_d[f\"layer_{i}\"] = round(d_m.item(), 6)\n",
    "    return layer_wise_delta_d"
   ]
  },
  {
   "cell_type": "markdown",
   "id": "af68c272",
   "metadata": {},
   "source": [
    "### <font color=yellow>*Fetch and Store the decomposed weights of Query/ Value matrices of pretrained model*"
   ]
  },
  {
   "cell_type": "code",
   "execution_count": 6,
   "id": "2c1372f8-0e40-4e8f-8f0d-8b42992fedb3",
   "metadata": {
    "tags": []
   },
   "outputs": [],
   "source": [
    "pretrained_weight_decomposition = defaultdict(list)\n",
    "pretrained_query_weights = get_model_weights(peft_model)\n",
    "weight_decomposition(pretrained_query_weights, pretrained_weight_decomposition)"
   ]
  },
  {
   "cell_type": "markdown",
   "id": "54d82ab9",
   "metadata": {},
   "source": [
    "### <font color=yellow>*Computes the Magnitude and Directional Components of finetuned model checkpoints*"
   ]
  },
  {
   "cell_type": "code",
   "execution_count": 7,
   "id": "b3f9b6dc-a6cd-46ae-9583-99c20941f44f",
   "metadata": {
    "tags": []
   },
   "outputs": [],
   "source": [
    "def get_magnitude_directions(tag):\n",
    "    checkpoint_path = \"trl/output/lora\"\n",
    "    artifacts = os.listdir(checkpoint_path)\n",
    "    combined_dm, combined_dd = defaultdict(list), defaultdict(list)\n",
    "\n",
    "    for model_dir in artifacts:\n",
    "        if not model_dir.startswith(\".\"):\n",
    "            decomposed_weights = defaultdict(list)\n",
    "            model_path = os.path.join(checkpoint_path, model_dir)\n",
    "            new_model = PeftModel.from_pretrained(model, model_path).to(\"cuda:1\")\n",
    "            query_weights = get_model_weights(new_model, tag=tag)\n",
    "            del new_model\n",
    "\n",
    "            weight_decomposition(query_weights, decomposed_weights, tag=tag)\n",
    "            dm = delta_magnitude(pretrained_weight_decomposition, decomposed_weights)\n",
    "            dd = delta_direction(pretrained_weight_decomposition, decomposed_weights)\n",
    "\n",
    "            name = model_dir[-3:]\n",
    "            combined_dm[name].append(dm)\n",
    "            combined_dd[name].append(dd)\n",
    "    return combined_dm, combined_dd"
   ]
  },
  {
   "cell_type": "code",
   "execution_count": 8,
   "id": "ee7e1afb-9ad1-4439-9933-281ee8a81e42",
   "metadata": {
    "tags": []
   },
   "outputs": [],
   "source": [
    "tag = \"lora\"\n",
    "lora_m, lora_d = get_magnitude_directions(tag=tag)"
   ]
  },
  {
   "cell_type": "markdown",
   "id": "dfae8f33",
   "metadata": {},
   "source": [
    "### <font color=yellow>*Accumulate magnitude and direction of each layer for plotting from each checkpoint*"
   ]
  },
  {
   "cell_type": "code",
   "execution_count": 9,
   "id": "0abfd59b-8aa9-4406-bed3-4094fb91b905",
   "metadata": {
    "tags": []
   },
   "outputs": [
    {
     "name": "stdout",
     "output_type": "stream",
     "text": [
      "Checkpoint Wise Magnitude and Direction -> \n",
      "{'layer_1': {'magnitude': 5.398438, 'direction': 0.705566}, 'layer_2': {'magnitude': 4.851562, 'direction': 0.681641}, 'layer_3': {'magnitude': 5.121094, 'direction': 0.716309}, 'layer_4': {'magnitude': 4.769531, 'direction': 0.681641}, 'layer_5': {'magnitude': 4.789062, 'direction': 0.665527}, 'layer_6': {'magnitude': 4.152344, 'direction': 0.680176}}\n"
     ]
    }
   ],
   "source": [
    "checkpoint_wise_magnitude_direction = []\n",
    "for model_name in ['300', '400', '500', '600', '700']:\n",
    "    if model_name in lora_m and model_name in lora_d:\n",
    "        magnitude, direction = lora_m[model_name], lora_d[model_name]\n",
    "        layer_wise_magnitude_direction = {}\n",
    "        for m, d in zip(magnitude[0].items(), direction[0].items()):\n",
    "            layer_wise_magnitude_direction[m[0]] = {\"magnitude\": m[1], \"direction\": d[1]}\n",
    "        checkpoint_wise_magnitude_direction.append(layer_wise_magnitude_direction)\n",
    "\n",
    "print(f\"Checkpoint Wise Magnitude and Direction -> \\n{checkpoint_wise_magnitude_direction[0]}\")"
   ]
  },
  {
   "cell_type": "markdown",
   "id": "b7d98fc3",
   "metadata": {},
   "source": [
    "### <font color=yellow>*Visualization of Magnitude and Directional Components between Pretrained and Finetuned Intermediate Model checkpoints*\n",
    "> A positive correlation can be observed in below plot <br>\n",
    "> LoRA tries to update both magnitude and direction components equally even when it's not needed. This would lead to slow convergence and higher rank matrices <br>\n",
    "> Due to equal updates, there's a performance gap which can be improved with advanced techniques like DoRA"
   ]
  },
  {
   "cell_type": "code",
   "execution_count": 15,
   "id": "a1ff1700-f86d-4f85-b7a5-053992b16579",
   "metadata": {
    "tags": []
   },
   "outputs": [
    {
     "data": {
      "image/png": "[encoded data removed]",
      "text/plain": [
       "<Figure size 1200x500 with 1 Axes>"
      ]
     },
     "metadata": {},
     "output_type": "display_data"
    }
   ],
   "source": [
    "layers = ['layer_1', 'layer_2', 'layer_3', 'layer_4', 'layer_5', 'layer_6']\n",
    "markers = ['o', 's', '^', 'x', 'D']\n",
    "colors = ['y', 'b', 'g', 'r', 'c', 'm']\n",
    "marker_labels = [\"inter_step1\",  \"inter_step2\", \"inter_step3\", \"inter_step4\", \"final_step\"]\n",
    "\n",
    "plt.figure(figsize=(12, 5))\n",
    "\n",
    "for i, layer in enumerate(layers):\n",
    "    for j, entry in enumerate(checkpoint_wise_magnitude_direction):\n",
    "        plt.scatter(entry[layer]['direction'], entry[layer]['magnitude'], color=colors[i], \n",
    "                    label=layer if j == 0 else \"\", marker=markers[j], s=100)\n",
    "\n",
    "for i, marker in enumerate(markers):\n",
    "    plt.scatter([], [], marker=marker, color='k', label=marker_labels[i])\n",
    "\n",
    "x = np.linspace(0.66, 0.78, 100)\n",
    "y = np.linspace(4, 7.5, 100)\n",
    "plt.plot(x, y, '-', color='violet')\n",
    "\n",
    "legend_layers = plt.legend(title='Layers', loc='upper left')\n",
    "plt.gca().add_artist(legend_layers)\n",
    "\n",
    "plt.xlabel('Delta Direction', fontsize=12)\n",
    "plt.ylabel('Delta Magnitude', fontsize=12)\n",
    "plt.title('Magnitude and Directional Updates of Value Matrix - LoRA', fontsize=16)\n",
    "plt.grid(False)\n",
    "\n",
    "# plt.savefig('plot_lora_v_proj.jpg', format='jpg')\n",
    "plt.show()"
   ]
  },
  {
   "cell_type": "markdown",
   "id": "fc045fd0",
   "metadata": {},
   "source": [
    "### <font color=yellow>*Correlation Coefficient between Magnitude and Directional Components*"
   ]
  },
  {
   "cell_type": "code",
   "execution_count": 18,
   "id": "647fa213-d44d-4441-8d39-ad2b14b70d26",
   "metadata": {
    "tags": []
   },
   "outputs": [
    {
     "name": "stdout",
     "output_type": "stream",
     "text": [
      "Correlation Coefficient for LoRA: 0.84\n"
     ]
    }
   ],
   "source": [
    "x, y = [], []\n",
    "\n",
    "for i, j in lora_m.items():\n",
    "    if i in ['300', '400', '500', '600', '700']:\n",
    "        for _, k in j[0].items():\n",
    "            x.append(k)\n",
    "\n",
    "for i, j in lora_d.items():\n",
    "    if i in ['300', '400', '500', '600', '700']:\n",
    "        for _, k in j[0].items():\n",
    "            y.append(k)\n",
    "\n",
    "correlation = np.corrcoef(x, y)\n",
    "print(f\"Correlation Coefficient for LoRA: {round(correlation[0][-1], 2)}\")"
   ]
  },
  {
   "cell_type": "code",
   "execution_count": null,
   "id": "25ba5df7-fe3e-468a-85c3-f440251d8b75",
   "metadata": {},
   "outputs": [],
   "source": []
  }
 ],
 "metadata": {
  "kernelspec": {
   "display_name": "conda_pytorch_p310",
   "language": "python",
   "name": "conda_pytorch_p310"
  },
  "language_info": {
   "codemirror_mode": {
    "name": "ipython",
    "version": 3
   },
   "file_extension": ".py",
   "mimetype": "text/x-python",
   "name": "python",
   "nbconvert_exporter": "python",
   "pygments_lexer": "ipython3",
   "version": "3.10.13"
  }
 },
 "nbformat": 4,
 "nbformat_minor": 5
}
